{
 "cells": [
  {
   "cell_type": "code",
   "execution_count": 13,
   "metadata": {},
   "outputs": [],
   "source": [
    "%matplotlib inline\n",
    "import numpy as np\n",
    "import pandas as pd\n",
    "import matplotlib"
   ]
  },
  {
   "cell_type": "code",
   "execution_count": 14,
   "metadata": {},
   "outputs": [],
   "source": [
    "import requests"
   ]
  },
  {
   "cell_type": "code",
   "execution_count": 15,
   "metadata": {},
   "outputs": [],
   "source": [
    "apple_url = \"https://cloud.iexapis.com/stable/stock/aapl/chart/1y?token=pk_4a15831e645343a0bec3c79c4e68862c\"\n",
    "google_url = \"https://cloud.iexapis.com/stable/stock/goog/chart/1y?token=pk_4a15831e645343a0bec3c79c4e68862c\"\n",
    "amazon_url = \"https://cloud.iexapis.com/stable/stock/amzn/chart/1y?token=pk_4a15831e645343a0bec3c79c4e68862c\"\n",
    "facebook_url = \"https://cloud.iexapis.com/stable/stock/fb/chart/1y?token=pk_4a15831e645343a0bec3c79c4e68862c\"\n",
    "apple_data = requests.get(apple_url).json()\n",
    "google_data = requests.get(google_url).json()\n",
    "amazon_data = requests.get(amazon_url).json()\n",
    "facebook_data = requests.get(facebook_url).json()\n",
    "apple_stock_df = pd.DataFrame(apple_data)\n",
    "google_stock_df = pd.DataFrame(google_data)\n",
    "amazon_stock_df = pd.DataFrame(amazon_data)\n",
    "facebook_stock_df = pd.DataFrame(facebook_data)\n"
   ]
  },
  {
   "cell_type": "code",
   "execution_count": 16,
   "metadata": {},
   "outputs": [],
   "source": [
    "apple_stock_df['date'] = pd.to_datetime(apple_stock_df['date'], format=\"%Y-%m-%d\")\n",
    "google_stock_df['date'] = pd.to_datetime(google_stock_df['date'], format=\"%Y-%m-%d\")\n",
    "amazon_stock_df['date'] = pd.to_datetime(amazon_stock_df['date'], format=\"%Y-%m-%d\")\n",
    "facebook_stock_df['date'] = pd.to_datetime(facebook_stock_df['date'], format=\"%Y-%m-%d\")"
   ]
  },
  {
   "cell_type": "code",
   "execution_count": 17,
   "metadata": {},
   "outputs": [],
   "source": [
    "apple_stock_df = apple_stock_df.set_index('date')\n",
    "google_stock_df = google_stock_df.set_index('date')\n",
    "amazon_stock_df = amazon_stock_df.set_index('date')\n",
    "facebook_stock_df = facebook_stock_df.set_index('date')"
   ]
  },
  {
   "cell_type": "code",
   "execution_count": 18,
   "metadata": {},
   "outputs": [
    {
     "data": {
      "text/html": [
       "<div>\n",
       "<style scoped>\n",
       "    .dataframe tbody tr th:only-of-type {\n",
       "        vertical-align: middle;\n",
       "    }\n",
       "\n",
       "    .dataframe tbody tr th {\n",
       "        vertical-align: top;\n",
       "    }\n",
       "\n",
       "    .dataframe thead th {\n",
       "        text-align: right;\n",
       "    }\n",
       "</style>\n",
       "<table border=\"1\" class=\"dataframe\">\n",
       "  <thead>\n",
       "    <tr style=\"text-align: right;\">\n",
       "      <th></th>\n",
       "      <th>open</th>\n",
       "      <th>close</th>\n",
       "      <th>high</th>\n",
       "      <th>low</th>\n",
       "      <th>volume</th>\n",
       "      <th>uOpen</th>\n",
       "      <th>uClose</th>\n",
       "      <th>uHigh</th>\n",
       "      <th>uLow</th>\n",
       "      <th>uVolume</th>\n",
       "      <th>change</th>\n",
       "      <th>changePercent</th>\n",
       "      <th>label</th>\n",
       "      <th>changeOverTime</th>\n",
       "    </tr>\n",
       "    <tr>\n",
       "      <th>date</th>\n",
       "      <th></th>\n",
       "      <th></th>\n",
       "      <th></th>\n",
       "      <th></th>\n",
       "      <th></th>\n",
       "      <th></th>\n",
       "      <th></th>\n",
       "      <th></th>\n",
       "      <th></th>\n",
       "      <th></th>\n",
       "      <th></th>\n",
       "      <th></th>\n",
       "      <th></th>\n",
       "      <th></th>\n",
       "    </tr>\n",
       "  </thead>\n",
       "  <tbody>\n",
       "    <tr>\n",
       "      <th>2019-02-27</th>\n",
       "      <td>173.21</td>\n",
       "      <td>174.87</td>\n",
       "      <td>175.00</td>\n",
       "      <td>172.73</td>\n",
       "      <td>27835389</td>\n",
       "      <td>173.21</td>\n",
       "      <td>174.87</td>\n",
       "      <td>175.00</td>\n",
       "      <td>172.73</td>\n",
       "      <td>27835389</td>\n",
       "      <td>0.00</td>\n",
       "      <td>0.0000</td>\n",
       "      <td>Feb 27, 19</td>\n",
       "      <td>0.000000</td>\n",
       "    </tr>\n",
       "    <tr>\n",
       "      <th>2019-02-28</th>\n",
       "      <td>174.32</td>\n",
       "      <td>173.15</td>\n",
       "      <td>174.91</td>\n",
       "      <td>172.92</td>\n",
       "      <td>28215416</td>\n",
       "      <td>174.32</td>\n",
       "      <td>173.15</td>\n",
       "      <td>174.91</td>\n",
       "      <td>172.92</td>\n",
       "      <td>28215416</td>\n",
       "      <td>-1.72</td>\n",
       "      <td>-0.9836</td>\n",
       "      <td>Feb 28, 19</td>\n",
       "      <td>-0.009836</td>\n",
       "    </tr>\n",
       "    <tr>\n",
       "      <th>2019-03-01</th>\n",
       "      <td>174.28</td>\n",
       "      <td>174.97</td>\n",
       "      <td>175.15</td>\n",
       "      <td>172.89</td>\n",
       "      <td>25886167</td>\n",
       "      <td>174.28</td>\n",
       "      <td>174.97</td>\n",
       "      <td>175.15</td>\n",
       "      <td>172.89</td>\n",
       "      <td>25886167</td>\n",
       "      <td>1.82</td>\n",
       "      <td>1.0511</td>\n",
       "      <td>Mar 1, 19</td>\n",
       "      <td>0.000572</td>\n",
       "    </tr>\n",
       "    <tr>\n",
       "      <th>2019-03-04</th>\n",
       "      <td>175.69</td>\n",
       "      <td>175.85</td>\n",
       "      <td>177.75</td>\n",
       "      <td>173.97</td>\n",
       "      <td>27436203</td>\n",
       "      <td>175.69</td>\n",
       "      <td>175.85</td>\n",
       "      <td>177.75</td>\n",
       "      <td>173.97</td>\n",
       "      <td>27436203</td>\n",
       "      <td>0.88</td>\n",
       "      <td>0.5029</td>\n",
       "      <td>Mar 4, 19</td>\n",
       "      <td>0.005604</td>\n",
       "    </tr>\n",
       "    <tr>\n",
       "      <th>2019-03-05</th>\n",
       "      <td>175.94</td>\n",
       "      <td>175.53</td>\n",
       "      <td>176.00</td>\n",
       "      <td>174.54</td>\n",
       "      <td>19737419</td>\n",
       "      <td>175.94</td>\n",
       "      <td>175.53</td>\n",
       "      <td>176.00</td>\n",
       "      <td>174.54</td>\n",
       "      <td>19737419</td>\n",
       "      <td>-0.32</td>\n",
       "      <td>-0.1820</td>\n",
       "      <td>Mar 5, 19</td>\n",
       "      <td>0.003774</td>\n",
       "    </tr>\n",
       "  </tbody>\n",
       "</table>\n",
       "</div>"
      ],
      "text/plain": [
       "              open   close    high     low    volume   uOpen  uClose   uHigh  \\\n",
       "date                                                                           \n",
       "2019-02-27  173.21  174.87  175.00  172.73  27835389  173.21  174.87  175.00   \n",
       "2019-02-28  174.32  173.15  174.91  172.92  28215416  174.32  173.15  174.91   \n",
       "2019-03-01  174.28  174.97  175.15  172.89  25886167  174.28  174.97  175.15   \n",
       "2019-03-04  175.69  175.85  177.75  173.97  27436203  175.69  175.85  177.75   \n",
       "2019-03-05  175.94  175.53  176.00  174.54  19737419  175.94  175.53  176.00   \n",
       "\n",
       "              uLow   uVolume  change  changePercent       label  \\\n",
       "date                                                              \n",
       "2019-02-27  172.73  27835389    0.00         0.0000  Feb 27, 19   \n",
       "2019-02-28  172.92  28215416   -1.72        -0.9836  Feb 28, 19   \n",
       "2019-03-01  172.89  25886167    1.82         1.0511   Mar 1, 19   \n",
       "2019-03-04  173.97  27436203    0.88         0.5029   Mar 4, 19   \n",
       "2019-03-05  174.54  19737419   -0.32        -0.1820   Mar 5, 19   \n",
       "\n",
       "            changeOverTime  \n",
       "date                        \n",
       "2019-02-27        0.000000  \n",
       "2019-02-28       -0.009836  \n",
       "2019-03-01        0.000572  \n",
       "2019-03-04        0.005604  \n",
       "2019-03-05        0.003774  "
      ]
     },
     "execution_count": 18,
     "metadata": {},
     "output_type": "execute_result"
    }
   ],
   "source": [
    "apple_stock_df.head()"
   ]
  },
  {
   "cell_type": "code",
   "execution_count": 19,
   "metadata": {},
   "outputs": [
    {
     "data": {
      "text/plain": [
       "<matplotlib.axes._subplots.AxesSubplot at 0x7fc1bfff06d8>"
      ]
     },
     "execution_count": 19,
     "metadata": {},
     "output_type": "execute_result"
    },
    {
     "data": {
      "image/png": "[encoded data removed]",
      "text/plain": [
       "<Figure size 432x288 with 1 Axes>"
      ]
     },
     "metadata": {
      "needs_background": "light"
     },
     "output_type": "display_data"
    }
   ],
   "source": [
    "apple_stock_df[['open', 'close', 'high', 'low']].plot()\n"
   ]
  },
  {
   "cell_type": "code",
   "execution_count": null,
   "metadata": {},
   "outputs": [],
   "source": []
  },
  {
   "cell_type": "code",
   "execution_count": null,
   "metadata": {},
   "outputs": [],
   "source": []
  }
 ],
 "metadata": {
  "kernelspec": {
   "display_name": "Python 3",
   "language": "python",
   "name": "python3"
  },
  "language_info": {
   "codemirror_mode": {
    "name": "ipython",
    "version": 3
   },
   "file_extension": ".py",
   "mimetype": "text/x-python",
   "name": "python",
   "nbconvert_exporter": "python",
   "pygments_lexer": "ipython3",
   "version": "3.7.3"
  }
 },
 "nbformat": 4,
 "nbformat_minor": 2
}
